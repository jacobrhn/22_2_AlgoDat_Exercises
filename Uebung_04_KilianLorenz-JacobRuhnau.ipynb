{
 "cells": [
  {
   "attachments": {},
   "cell_type": "markdown",
   "id": "2a3866a7",
   "metadata": {},
   "source": [
    "### Übung 4 - Build-in DS und Hashing"
   ]
  },
  {
   "attachments": {},
   "cell_type": "markdown",
   "id": "0f98823d",
   "metadata": {},
   "source": [
    "#### Aufgabe 1: Build-in DataStructures\n",
    "Bauen Sie auf der \"In_Class_Uebung_4\" - Aufgabe 1 auf. Dort haben Sie bereits alle einzel-Informationen. erstellt.  \n",
    "\n",
    "Welche Datenstrukturen sind geeignet um folgende Informationen sinnvoll abzubilden?\n",
    "\n",
    "Optionen: \n",
    "- tuple\n",
    "- list\n",
    "- dict\n",
    "- set\n",
    "\n",
    "**Diesmal ist es erlaubt, Datenstrukturen zu kombinieren**\n",
    "\n",
    "**Hinweis:** *Alle DHBWs:* {DHBWMannheim, DHBWLoerrach, DHBWKarlsruhe }"
   ]
  },
  {
   "cell_type": "code",
   "execution_count": 91,
   "id": "bfff88aa",
   "metadata": {},
   "outputs": [],
   "source": [
    "# a) Alle DHBWs mit ihren WI-Studiengängen und Lat und Long koordinaten\n",
    "#[ 5 points]\n",
    "\n",
    "\"\"\"\n",
    "3d Dictionary mit allen DHBWs, ihren WI-Studiengängen und Lat und Long Koordinaten\n",
    "Syntax: dict{DHBW: dict{WI-Studiengänge: dict{Abkürzung: Name}, Lat,Long: tuple(Lat, Long)}}\n",
    "\"\"\"\n",
    "all_dhbws_with_programmes_and_coordinates = {\n",
    "    \"DHBW Mannheim\":    {\"WI-Studiengänge\": {\"Application Management\": \"AM\", \"Data Science\": \"DS\", \"E-Government\": \"EG\", \"E-Health\": \"EH\", \n",
    "                                            \"International Management for Business and Information Technology\": \"IMBIT\",\"Sales and Consulting\": \"SC\", \"Software Engeneering\": \"SE\"},\n",
    "                        \"Lat,Long\":     (49.473807, 8.534769)},\n",
    "    \"DHBW Karlsruhe\":   {\"WI-Studiengänge\": {\"Data Science\": \"DS\", \"Sales and Consulting\": \"SC\", \"Software Engeneering\": \"SE\"}, \n",
    "                         \"Lat,Long\":    (49.026392, 8.385331)},\n",
    "    \"DHBW Loerrach\":    {\"WI-Studiengänge\": {\"Application Management\": \"AM\", \"Data Science\": \"DS\"},\n",
    "                         \"Lat,Long\":    (47.61688009169863, 7.676269402510667)}}\n",
    "\n",
    "\n"
   ]
  },
  {
   "attachments": {},
   "cell_type": "markdown",
   "id": "df6fd945",
   "metadata": {},
   "source": [
    "#### Aufgabe 2: Operationen auf Datenstrukturen \n",
    "(basierend auf Aufgabe 1)"
   ]
  },
  {
   "cell_type": "code",
   "execution_count": 6,
   "id": "6354e3f5",
   "metadata": {},
   "outputs": [
    {
     "data": {
      "text/plain": [
       "dict_values(['Application Management', 'Data Science', 'E-Government', 'E-Health', 'International Management for Business and Information Technology', 'Sales and Consulting', 'software Engeneering'])"
      ]
     },
     "execution_count": 6,
     "metadata": {},
     "output_type": "execute_result"
    }
   ],
   "source": [
    "# a) Welche WI Studiengänge kann ich in Mannheim studieren? Die Antwort ist durch auslesen von \n",
    "#    all_dhbws_with_programmes_and_coordinates aus 1a zu bestimmen (ggf ist diese anzupassen)\n",
    "# [4 points]\n",
    "\n",
    "all_dhbws_with_programmes_and_coordinates[\"DHBW Mannheim\"][\"WI-Studiengänge\"].values()"
   ]
  },
  {
   "cell_type": "code",
   "execution_count": 22,
   "id": "3fe5b599",
   "metadata": {},
   "outputs": [
    {
     "name": "stdout",
     "output_type": "stream",
     "text": [
      "Studiengänge pro DHBW:\n",
      "DHBW Mannheim: 7\n",
      "DHBW Karlsruhe: 3\n",
      "DHBW Loerrach: 2\n",
      "Summe der individuellen Studiengänge: 7\n"
     ]
    }
   ],
   "source": [
    "# b) Wie viele WI Studiengänge gibt es an DHBWs? (bestimme aus beliebiger Datenstruktur aus 1) oder 2)\n",
    "# [4 points]\n",
    "\n",
    "print(\"Studiengänge pro DHBW:\")\n",
    "individual_programmes = []\n",
    "for dhbw, info in all_dhbws_with_programmes_and_coordinates.items():\n",
    "    print(\"{}: {}\".format(dhbw, len(info[\"WI-Studiengänge\"])))\n",
    "    for programm in info[\"WI-Studiengänge\"].values():\n",
    "        if programm not in individual_programmes:\n",
    "            individual_programmes.append(programm)\n",
    "print(\"Summe der individuellen Studiengänge: {}\".format(len(individual_programmes)))\n"
   ]
  },
  {
   "cell_type": "code",
   "execution_count": 98,
   "id": "f051c55a",
   "metadata": {},
   "outputs": [
    {
     "name": "stdout",
     "output_type": "stream",
     "text": [
      "DHBWs sortiert nach Längengrad:\n",
      "DHBW Loerrach: 7.676269402510667\n",
      "DHBW Karlsruhe: 8.385331\n",
      "DHBW Mannheim: 8.534769\n"
     ]
    }
   ],
   "source": [
    "# c) gebe die DHBWs sortiert nach Längengrad aus (bestimme aus beliebiger Datenstruktur aus 1) / 2)\n",
    "# [ 4 points]\n",
    "print(\"DHBWs sortiert nach Längengrad:\")\n",
    "for lang in sorted(all_dhbws_with_programmes_and_coordinates, key=lambda x: all_dhbws_with_programmes_and_coordinates[x][\"Lat,Long\"][1]):\n",
    "    print(\"{}: {}\".format(lang, all_dhbws_with_programmes_and_coordinates[lang][\"Lat,Long\"][1]))\n",
    "\n"
   ]
  },
  {
   "cell_type": "code",
   "execution_count": 92,
   "id": "3421897c",
   "metadata": {},
   "outputs": [
    {
     "name": "stdout",
     "output_type": "stream",
     "text": [
      "Studiengänge an der DHBW Loerrach:\n",
      "\t- Application Management\n",
      "\t- Data Science\n",
      "Studiengänge an der DHBW Karlsruhe:\n",
      "\t- Data Science\n",
      "\t- Sales and Consulting\n",
      "\t- Software Engeneering\n"
     ]
    }
   ],
   "source": [
    "# d) Welche Studiengänge kann man in Lörrach und Karlsruhe studieren (bestimme aus beliebiger Datenstruktur aus 1) / 2). Das Ergebnis muss vollständig und eindeutig sein.\n",
    "# [4 points]\n",
    "\n",
    "def get_programmes(dhbw):\n",
    "    print(\"Studiengänge an der {}:\".format(dhbw))\n",
    "    for programm in all_dhbws_with_programmes_and_coordinates[dhbw][\"WI-Studiengänge\"]:              \n",
    "        print(\"\\t- {}\".format(programm), end=\"\\n\")\n",
    "\n",
    "get_programmes(\"DHBW Loerrach\")\n",
    "get_programmes(\"DHBW Karlsruhe\")"
   ]
  },
  {
   "attachments": {},
   "cell_type": "markdown",
   "id": "cabb96d8",
   "metadata": {},
   "source": [
    "#### Aufgabe 3: Hashing\n",
    "Idee dieser Aufgabe ist es, nachzubilden wie ein set \"under the hood\" funktioniert.  \n",
    "\n",
    "Schreiben Sie hierzu eine Hash-Tabellen Klasse, welche Strings speichert. Die Hash-keys sollen anhand der Unicodes der ersten beiden Buchstaben berechnet werden. Dabei besteht jeder Unicode aus einer zweistelligen Integer. Die Unicodes sollen simpel \"hintereinander gesetzt werden\". Nutzen Sie die folgende Skeletton-Vorlage:  \n",
    "[7 points]"
   ]
  },
  {
   "cell_type": "code",
   "execution_count": 175,
   "id": "9b258ab6",
   "metadata": {},
   "outputs": [
    {
     "name": "stdout",
     "output_type": "stream",
     "text": [
      "6872\n",
      "-1\n",
      "6872\n",
      "6872\n",
      "-1\n"
     ]
    }
   ],
   "source": [
    "class MyHashTable():\n",
    "    def __init__(self):\n",
    "        self.table = [None]*10000\n",
    "\n",
    "    def store(self, string):\n",
    "        \"\"\"\n",
    "        Input a string that's stored in the table.\n",
    "        \"\"\"\n",
    "        self.table[self.calculate_hash_value(string)] = string\n",
    "\n",
    "    def lookup(self, string):\n",
    "        \"\"\"\n",
    "        Return the hash value if the string is already in the table.\n",
    "        Return -1 otherwise.\n",
    "        \"\"\"\n",
    "        if self.table[self.calculate_hash_value(string)] == string:\n",
    "            return self.calculate_hash_value(string)\n",
    "        return -1\n",
    "\n",
    "    def calculate_hash_value(self, string):\n",
    "        \"\"\"\n",
    "        Helper function to calulate a hash value from a string.\n",
    "        \"\"\"\n",
    "        uni_string = \"\"\n",
    "        for i in range(0, 2):\n",
    "            try:\n",
    "                uni_string += str(ord(string[i].upper()))\n",
    "            except IndexError:\n",
    "                pass\n",
    "        return int(uni_string)\n",
    "    \n",
    "# Setup\n",
    "hash_table = MyHashTable()\n",
    "\n",
    "# Test calculate_hash_value\n",
    "# Should be 6872\n",
    "print(hash_table.calculate_hash_value('DHBW'))\n",
    "\n",
    "# Test lookup edge case\n",
    "# Should be -1\n",
    "print(hash_table.lookup('DHBW'))\n",
    "\n",
    "# Test store\n",
    "hash_table.store('DHBW')\n",
    "# Should be 6872\n",
    "print(hash_table.lookup('DHBW'))\n",
    "\n",
    "# Test store collisions\n",
    "print(hash_table.calculate_hash_value('DH ist die Abkuerzung fuer das heisst'))\n",
    "#hash_table.store('DH ist die Abkuerzung fuer das heisst')\n",
    "# Should be 7679\n",
    "print(hash_table.lookup('DH ist die Abkuerzung fuer das heisst'))\n",
    "\n",
    "\n"
   ]
  },
  {
   "attachments": {},
   "cell_type": "markdown",
   "id": "d4a10073",
   "metadata": {},
   "source": [
    "### Aufgabe 4: Mengenoperationen"
   ]
  },
  {
   "cell_type": "code",
   "execution_count": 2,
   "id": "ffa75653",
   "metadata": {},
   "outputs": [
    {
     "name": "stdout",
     "output_type": "stream",
     "text": [
      "{'a', 'b', 'c'}\n",
      "{'c'}\n",
      "{'b'}\n",
      "{'a', 'b'}\n"
     ]
    }
   ],
   "source": [
    "# a) Folgende Methoden der set Klasse müssen durch Mengenoperatoren (siehe Folien) ersetzt werden\n",
    "# [ 3 points]\n",
    "\n",
    "s1 = {\"b\", \"c\"}.union({\"c\", \"a\"})\n",
    "\n",
    "print(s1)\n",
    "\n",
    "s2 = {\"b\", \"c\"}.intersection({\"c\", \"a\"})\n",
    "\n",
    "print(s2)\n",
    "\n",
    "s3 = {\"b\",\"c\"}.difference({\"c\", \"a\"})\n",
    "\n",
    "print(s3)\n",
    "\n",
    "s4 = {\"b\",\"c\"}.symmetric_difference({\"c\", \"a\"})\n",
    "\n",
    "print(s4)\n"
   ]
  },
  {
   "cell_type": "code",
   "execution_count": 3,
   "id": "6e40f041",
   "metadata": {},
   "outputs": [],
   "source": [
    "# b) Welche Variablennamen sind in Python gültig und welche nicht? Benutze Mengen und Mengenoperationen, um das Ergebnis zu ermitteln \n",
    "# [ 3 points]\n",
    "\n",
    "#Legal variable names:\n",
    "variableNameCandidates = ('myvar','my_var','def','3myvar','myVar','MYVAR','my-var','myvar2','my var',' ','','1337','v@r')\n"
   ]
  }
 ],
 "metadata": {
  "kernelspec": {
   "display_name": "Python 3 (ipykernel)",
   "language": "python",
   "name": "python3"
  },
  "language_info": {
   "codemirror_mode": {
    "name": "ipython",
    "version": 3
   },
   "file_extension": ".py",
   "mimetype": "text/x-python",
   "name": "python",
   "nbconvert_exporter": "python",
   "pygments_lexer": "ipython3",
   "version": "3.10.11"
  }
 },
 "nbformat": 4,
 "nbformat_minor": 5
}

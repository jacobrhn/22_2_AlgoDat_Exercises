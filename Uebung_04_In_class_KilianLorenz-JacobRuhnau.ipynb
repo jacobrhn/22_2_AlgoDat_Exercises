{
 "cells": [
  {
   "cell_type": "markdown",
   "id": "bb511785",
   "metadata": {},
   "source": [
    "# In Class-Übung 4\n",
    "\n",
    "Erlaubte Importe: *random*\n",
    "\n"
   ]
  },
  {
   "cell_type": "markdown",
   "id": "e4e7fca7",
   "metadata": {},
   "source": [
    "### 1. Geeignete Datenstrukturen\n",
    "\n",
    "\n",
    "Welche Datenstrukturen sind geeignet um folgende Informationen sinnvoll abzubilden? \n",
    "\n",
    "Optionen: \n",
    "- tuple\n",
    "- list\n",
    "- dict\n",
    "- set\n",
    "\n",
    "**Hinweis 1:** *Alle DHBWs:* {DHBWMannheim, DHBWLoerrach, DHBWKarlsruhe }\n",
    "\n",
    "**Hinweis 2:** *Wählen Sie die Datenstrukturen so, dass alle notwendigen Informationen möglichst einfach und effizient gespeichert werden können. Wenn es mehrere Möglichkeiten gibt, begründen Sie ihre Präferenz.*"
   ]
  },
  {
   "cell_type": "code",
   "execution_count": 1,
   "id": "02d544f0",
   "metadata": {},
   "outputs": [],
   "source": [
    "# a) Geo-Koordinaten, z.B. 47.6175921384363, 7.678328015341984\n",
    "coordinates = None # Ihre Datenstruktur"
   ]
  },
  {
   "cell_type": "markdown",
   "id": "1a668a7c",
   "metadata": {},
   "source": [
    "Begründung:"
   ]
  },
  {
   "cell_type": "code",
   "execution_count": 2,
   "id": "97d0f556",
   "metadata": {},
   "outputs": [],
   "source": [
    "# b) Die Namen aller DHBWs (siehe Hinweis 1 oben)\n",
    "all_dhbw_names = None # Ihre Datenstruktur"
   ]
  },
  {
   "cell_type": "markdown",
   "id": "f8fbdf14",
   "metadata": {},
   "source": [
    "Begründung:"
   ]
  },
  {
   "cell_type": "code",
   "execution_count": 3,
   "id": "24d8f909",
   "metadata": {},
   "outputs": [],
   "source": [
    "# c) Die Namen aller DHBWs mit ihren Koordinaten (z.B. aus Google Maps)\n",
    "dhbws_with_coordinates = None # Ihre Datenstruktur"
   ]
  },
  {
   "cell_type": "markdown",
   "id": "32093926",
   "metadata": {},
   "source": [
    "Begründung:"
   ]
  },
  {
   "cell_type": "code",
   "execution_count": 4,
   "id": "aabc1ab4",
   "metadata": {},
   "outputs": [],
   "source": [
    "# d) Die Namen der auswählbaren Studiengänge im Bereich Wirtschaftsinformatik an allen DHBWs (siehe Hinweis oben)\n",
    "it_programmes = None #Ihre Datenstruktur\n"
   ]
  },
  {
   "cell_type": "markdown",
   "id": "0d1a11d7",
   "metadata": {},
   "source": [
    "Begründung:"
   ]
  },
  {
   "cell_type": "code",
   "execution_count": 5,
   "id": "c962c9a6",
   "metadata": {},
   "outputs": [],
   "source": [
    "# e) Die Namen der auswählbaren Studiengänge im Bereich Wirtschaftsinformatik an \n",
    "#    allen DHBWs mit ihren Abkürzungen ( z.b. DataScience = DS)\n",
    "\n",
    "all_business_it_programme_names_with_abbreviations = None #Ihre Datenstruktur"
   ]
  },
  {
   "cell_type": "markdown",
   "id": "adbca925",
   "metadata": {},
   "source": [
    "Begründung:"
   ]
  }
 ],
 "metadata": {
  "kernelspec": {
   "display_name": "Python 3 (ipykernel)",
   "language": "python",
   "name": "python3"
  },
  "language_info": {
   "codemirror_mode": {
    "name": "ipython",
    "version": 3
   },
   "file_extension": ".py",
   "mimetype": "text/x-python",
   "name": "python",
   "nbconvert_exporter": "python",
   "pygments_lexer": "ipython3",
   "version": "3.8.3"
  },
  "vscode": {
   "interpreter": {
    "hash": "d176a51a5502d00ed7b8486de937cece202c71add5470dec5845a7d96f791bb8"
   }
  }
 },
 "nbformat": 4,
 "nbformat_minor": 5
}

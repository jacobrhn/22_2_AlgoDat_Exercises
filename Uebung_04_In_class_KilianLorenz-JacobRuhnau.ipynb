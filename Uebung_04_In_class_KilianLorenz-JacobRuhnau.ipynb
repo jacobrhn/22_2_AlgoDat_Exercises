{
 "cells": [
  {
   "attachments": {},
   "cell_type": "markdown",
   "id": "bb511785",
   "metadata": {},
   "source": [
    "# In Class-Übung 4\n",
    "\n",
    "Erlaubte Importe: *random*\n",
    "\n"
   ]
  },
  {
   "attachments": {},
   "cell_type": "markdown",
   "id": "e4e7fca7",
   "metadata": {},
   "source": [
    "### 1. Geeignete Datenstrukturen\n",
    "\n",
    "\n",
    "Welche Datenstrukturen sind geeignet um folgende Informationen sinnvoll abzubilden? \n",
    "\n",
    "Optionen: \n",
    "- tuple\n",
    "- list\n",
    "- dict\n",
    "- set\n",
    "\n",
    "**Hinweis 1:** *Alle DHBWs:* {DHBWMannheim, DHBWLoerrach, DHBWKarlsruhe }\n",
    "\n",
    "**Hinweis 2:** *Wählen Sie die Datenstrukturen so, dass alle notwendigen Informationen möglichst einfach und effizient gespeichert werden können. Wenn es mehrere Möglichkeiten gibt, begründen Sie ihre Präferenz.*\n",
    "\n",
    "---\n",
    "\n",
    "#### a) Geo-Koordinaten, z.B. 47.6175921384363, 7.678328015341984"
   ]
  },
  {
   "cell_type": "code",
   "execution_count": 1,
   "id": "02d544f0",
   "metadata": {},
   "outputs": [],
   "source": [
    "\n",
    "\n",
    "coordinates_tuple = (47.6175921384363, 7.678328015341984)\n",
    "coordinates_dict = {\"lat\": 47.6175921384363, \"long\": 7.678328015341984}\n"
   ]
  },
  {
   "attachments": {},
   "cell_type": "markdown",
   "id": "1a668a7c",
   "metadata": {},
   "source": [
    "##### Begründung:\n",
    "\n",
    "Latitude und Logitude müssen beide identifizierbar sein, weshalb ein Set nicht infrage kommen. Da eine Tuple geordnet ist wäre auch das eine sehr gute und die effizienteste Wahl, da es in der rheinfolge gleich bleibt, lat und long sollte dann immer in der selbsen rheinfolge eingegeben werden. Sie würde auch genügen unter dem angesicht, dass sich die Koordinaten auch nicht ändern.\n",
    "EIn dict wäre auch eine möglichkeit um lat und long eindetuig identifizierbar zu halten.\n",
    "\n",
    "---\n",
    "\n",
    "#### b) Die Namen aller DHBWs \n",
    "_(siehe Hinweis 1 oben)_"
   ]
  },
  {
   "cell_type": "code",
   "execution_count": 2,
   "id": "97d0f556",
   "metadata": {},
   "outputs": [],
   "source": [
    "\n",
    "all_dhbw_names = {\"DHBW Karlsruhe\", \"DHBW Mannheim\", \"DHBW Stuttgart\", \"DHBW Loerrach\", \"DHBW Mosbach\", \"DHBW Heilbronn\", \"DHBW Ravensburg\", \"DHBW Heidenheim\", \"DHBW Friedrichshafen\", \"DHBW Villingen-Schwenningen\"}\n"
   ]
  },
  {
   "attachments": {},
   "cell_type": "markdown",
   "id": "f8fbdf14",
   "metadata": {},
   "source": [
    "##### Begründung:\n",
    "\n",
    "Die Reihenfolge der DHBW´s ist nicht relevant, genau so wird sich der Name, ist er einmal festgelegt nicht verändern, lediglich könnten eher weitere Standorte hinzukommen oder aufgelöst werden. Deshalb genügt eine Tuple nicht, jedoch werden die Bedingungen von einem Set abgebildet, weitere Operationen sind nicht benötigt, es ist also die beste Wahl.\n",
    "\n",
    "---\n",
    "\n",
    "#### c) Die Namen aller DHBWs mit ihren Koordinaten (z.B. aus Google Maps)"
   ]
  },
  {
   "cell_type": "code",
   "execution_count": 3,
   "id": "24d8f909",
   "metadata": {},
   "outputs": [],
   "source": [
    "\n",
    "dhbws_with_coordinates = {\"DHBW Loerrach\": {\"lat\": 47.6175921384363, \"long\": 7.678328015341984}, \"DHBW Karlsruhe\": {\"lat\": 49.0175921384363, \"long\": 8.398328015341984}, \"DHBW Mannheim\": {\"lat\": 48.6175921384363, \"long\": 7.678328015341984}, \"DHBW Stuttgart\": {\"lat\": 47.6175921384363, \"long\": 7.678328015341984}, \"DHBW Mosbach\": {\"lat\": 47.6175921384363, \"long\": 7.678328015341984}, \"DHBW Heilbronn\": {\"lat\": 47.6175921384363, \"long\": 7.678328015341984}, \"DHBW Ravensburg\": {\"lat\": 47.6175921384363, \"long\": 7.678328015341984}, \"DHBW Heidenheim\": {\"lat\": 47.6175921384363, \"long\": 7.678328015341984}, \"DHBW Friedrichshafen\": {\"lat\": 47.6175921384363, \"long\": 7.678328015341984}, \"DHBW Villingen-Schwenningen\": {\"lat\": 47.6175921384363, \"long\": 7.678328015341984}}"
   ]
  },
  {
   "attachments": {},
   "cell_type": "markdown",
   "id": "32093926",
   "metadata": {},
   "source": [
    "##### Begründung:\n",
    "\n",
    "Auch hier wieder keine relevante Reihenfolge. Ein Set genügt hier allerdings nicht aus, da zu jeder DHBW noch Charekteristika abgebildet werden müssen (Koordinaten). Diese werden als weitere Dimension wie in a) als embeded dict dargestellt.\n",
    "\n",
    "---\n",
    "\n",
    "#### d) Die Namen der auswählbaren Studiengänge im Bereich Wirtschaftsinformatik an allen DHBWs \n",
    "_(siehe Hinweis oben)_"
   ]
  },
  {
   "cell_type": "code",
   "execution_count": 4,
   "id": "aabc1ab4",
   "metadata": {},
   "outputs": [],
   "source": [
    "\n",
    "it_programmes = [\"Wirtschaftsinformatik\", \"Angewandte Informatik\", \"Informatik\", \"Medieninformatik\", \"Technische Informatik\", \"Wirtschaftsinformatik - Application Management\", \"Wirtschaftsinformatik - Data Science\", \"Wirtschaftsinformatik - Business Engineering\", \"Wirtschaftsinformatik - Digital Service Management\", \"Wirtschaftsinformatik - Sales and Consulting\", \"Wirtschaftsinformatik - Software Engineering\", \"Wirtschaftsinformatik - Technische Informatik\", \"Wirtschaftsinformatik - User Experience Engineering\"]\n"
   ]
  },
  {
   "attachments": {},
   "cell_type": "markdown",
   "id": "0d1a11d7",
   "metadata": {},
   "source": [
    "##### Begründung:\n",
    "\n",
    "Hier ist eine Liste die beste Wahl, da die Studiengänge und ihre Bezeichnung im Wandel ist. Sie können ausserdem in recht hoher Anzahl vorkommen, wozu sich bspw. alphabetischen Sortieren zur verbesserten Übersicht nützlich erweisen könnte. Um nur mit den Daten zu arbeiten jedoch könnte auch hier wieder ein Set eine gute Wahl sein, da auch die Studiengänge Einzigartig sein sollten. Wenn sich dann allerdings der Name eines Studiengangs ändern würde, müsste der alte Name entfernt und der neue hinzugefügt werden.\n",
    "\n",
    "---\n",
    "\n",
    "#### e) Die Namen der auswählbaren Studiengänge im Bereich Wirtschaftsinformatik an allen DHBWs mit ihren Abkürzungen ( z.b. DataScience = DS)"
   ]
  },
  {
   "cell_type": "code",
   "execution_count": 5,
   "id": "c962c9a6",
   "metadata": {},
   "outputs": [],
   "source": [
    "\n",
    "\n",
    "all_business_it_programme_names_with_abbreviations = {\"Wirtschaftsinformatik\": \"WI\", \"Angewandte Informatik\": \"AI\", \"Informatik\": \"INF\", \"Medieninformatik\": \"MI\", \"Technische Informatik\": \"TI\", \"Wirtschaftsinformatik - Application Management\": \"WI-AM\", \"Wirtschaftsinformatik - Data Science\": \"WI-DS\", \"Wirtschaftsinformatik - Business Engineering\": \"WI-BE\", \"Wirtschaftsinformatik - Digital Service Management\": \"WI-DSM\", \"Wirtschaftsinformatik - Sales and Consulting\": \"WI-SC\", \"Wirtschaftsinformatik - Software Engineering\": \"WI-SE\", \"Wirtschaftsinformatik - Technische Informatik\": \"WI-TI\", \"Wirtschaftsinformatik - User Experience Engineering\": \"WI-UXE\"}"
   ]
  },
  {
   "attachments": {},
   "cell_type": "markdown",
   "id": "adbca925",
   "metadata": {},
   "source": [
    "##### Begründung:\n",
    "\n",
    "Die jeweilige Abkürzung muss ihrem Studiengang eindeutif zuweisbar sein.\n",
    "\n",
    "---"
   ]
  }
 ],
 "metadata": {
  "kernelspec": {
   "display_name": "Python 3 (ipykernel)",
   "language": "python",
   "name": "python3"
  },
  "language_info": {
   "codemirror_mode": {
    "name": "ipython",
    "version": 3
   },
   "file_extension": ".py",
   "mimetype": "text/x-python",
   "name": "python",
   "nbconvert_exporter": "python",
   "pygments_lexer": "ipython3",
   "version": "3.8.3"
  },
  "vscode": {
   "interpreter": {
    "hash": "d176a51a5502d00ed7b8486de937cece202c71add5470dec5845a7d96f791bb8"
   }
  }
 },
 "nbformat": 4,
 "nbformat_minor": 5
}
